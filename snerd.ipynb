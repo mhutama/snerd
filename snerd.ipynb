{
  "nbformat": 4,
  "nbformat_minor": 0,
  "metadata": {
    "colab": {
      "provenance": [],
      "authorship_tag": "ABX9TyP2BTwJyzwua9xsIpPgZgM8",
      "include_colab_link": true
    },
    "kernelspec": {
      "name": "python3",
      "display_name": "Python 3"
    },
    "language_info": {
      "name": "python"
    }
  },
  "cells": [
    {
      "cell_type": "markdown",
      "metadata": {
        "id": "view-in-github",
        "colab_type": "text"
      },
      "source": [
        "<a href=\"https://colab.research.google.com/github/mhutama/snerd/blob/main/snerd.ipynb\" target=\"_parent\"><img src=\"https://colab.research.google.com/assets/colab-badge.svg\" alt=\"Open In Colab\"/></a>"
      ]
    },
    {
      "cell_type": "code",
      "execution_count": null,
      "metadata": {
        "id": "IuO0hF3UzzCx"
      },
      "outputs": [],
      "source": [
        "# Import libraries\n",
        "import requests\n",
        "import pandas as pd\n",
        "from datetime import datetime"
      ]
    },
    {
      "cell_type": "code",
      "source": [
        "# Function to search urlscan.io with a given keyword\n",
        "def search_urlscan(keyword, api_key):\n",
        "    url = f\"https://urlscan.io/api/v1/search/?q={keyword}\"\n",
        "    headers = {\"API-Key\": api_key}\n",
        "    response = requests.get(url, headers=headers)\n",
        "    if response.status_code == 200:\n",
        "        return response.json()\n",
        "    else:\n",
        "        print(f\"Error: {response.status_code}\")\n",
        "        return None\n",
        "\n",
        "# Function to export results to CSV\n",
        "def export_to_csv(data, filename):\n",
        "    df = pd.DataFrame(data)\n",
        "    df.to_csv(filename, index=False)\n",
        "    print(f\"Results exported to {filename}\")\n",
        "\n",
        "# Function to format the scan date\n",
        "def format_scan_date(scan_date):\n",
        "    try:\n",
        "        dt = datetime.strptime(scan_date, \"%Y-%m-%dT%H:%M:%S.%fZ\")\n",
        "        return dt.strftime(\"%d-%b-%Y %H:%M:%S UTC\")\n",
        "    except ValueError:\n",
        "        return \"N/A\"\n",
        "\n",
        "# Main function\n",
        "def main():\n",
        "    api_key = input(\"Enter your urlscan.io API key: \")\n",
        "    keyword = input(\"Enter the keyword to search: \")\n",
        "    results = search_urlscan(keyword, api_key)\n",
        "    if results:\n",
        "        # Extracting relevant data\n",
        "        data = []\n",
        "        for result in results.get(\"results\", []):\n",
        "            # Convert the scan date to the desired format\n",
        "            scan_date_str = result.get(\"task\", {}).get(\"time\", \"\")\n",
        "            if scan_date_str:\n",
        "                scan_date = datetime.strptime(scan_date_str, \"%Y-%m-%dT%H:%M:%S.%fZ\")\n",
        "                formatted_date = scan_date.strftime(\"%d-%b-%Y %H:%M:%S - UTC\")\n",
        "            else:\n",
        "                formatted_date = \"N/A\"\n",
        "\n",
        "            data.append({\n",
        "                \"Domain\": result.get(\"page\", {}).get(\"domain\", \"\"),\n",
        "                \"Check Date\": formatted_date,\n",
        "                \"Page Title\": result.get(\"page\", {}).get(\"title\", \"\")\n",
        "            })\n",
        "        # Exporting to CSV\n",
        "        export_to_csv(data, \"search_results.csv\")\n",
        "\n",
        "# Run the main function\n",
        "if __name__ == \"__main__\":\n",
        "    main()"
      ],
      "metadata": {
        "id": "rR0SQli6z6yl"
      },
      "execution_count": null,
      "outputs": []
    }
  ]
}