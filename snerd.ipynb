{
  "nbformat": 4,
  "nbformat_minor": 0,
  "metadata": {
    "colab": {
      "provenance": [],
      "authorship_tag": "ABX9TyN+HUWCrJD66rhfT/HBW1Wr",
      "include_colab_link": true
    },
    "kernelspec": {
      "name": "python3",
      "display_name": "Python 3"
    },
    "language_info": {
      "name": "python"
    }
  },
  "cells": [
    {
      "cell_type": "markdown",
      "metadata": {
        "id": "view-in-github",
        "colab_type": "text"
      },
      "source": [
        "<a href=\"https://colab.research.google.com/github/mhutama/snerd/blob/main/snerd.ipynb\" target=\"_parent\"><img src=\"https://colab.research.google.com/assets/colab-badge.svg\" alt=\"Open In Colab\"/></a>"
      ]
    },
    {
      "cell_type": "markdown",
      "source": [
        "# #**1** - Install required python libraries"
      ],
      "metadata": {
        "id": "YoVEU2Ssa9ws"
      }
    },
    {
      "cell_type": "code",
      "execution_count": null,
      "metadata": {
        "id": "70WSton0a4q6"
      },
      "outputs": [],
      "source": [
        "# Import libraries\n",
        "import requests\n",
        "import pandas as pd\n",
        "from datetime import datetime"
      ]
    },
    {
      "cell_type": "markdown",
      "source": [
        "# **#2** - Please use your own urlscan API, register to https://urlscan.io/user/\n",
        "\n",
        "*   Please use your own urlscan API, register to https://urlscan.io/user/signup/\n",
        "*   for search keyword guidance refer to https://urlscan.io/docs/search/\n",
        "\n",
        "---\n",
        "*   example of keyword : domain.keyword: *crowdstrike* AND NOT crowdstrike.com AND NOT crowdstrike.litmos.com AND NOT www.www* AND NOT youtube.com AND NOT godaddy.com AND NOT wikipedia AND NOT okta.com AND date:>now-9d\n",
        "\n"
      ],
      "metadata": {
        "id": "QeLkhGHhbavv"
      }
    },
    {
      "cell_type": "code",
      "source": [
        "# Function to search urlscan.io with a given keyword\n",
        "def search_urlscan(keyword, api_key):\n",
        "    url = f\"https://urlscan.io/api/v1/search/?q={keyword}&size=10000\"\n",
        "    headers = {\"API-Key\": api_key}\n",
        "    response = requests.get(url, headers=headers)\n",
        "    if response.status_code == 200:\n",
        "        return response.json()\n",
        "    else:\n",
        "        print(f\"Error: {response.status_code}\")\n",
        "        return None\n",
        "\n",
        "# Function to export results to CSV with UTF-8 encoding\n",
        "def export_to_csv(data, filename):\n",
        "    df = pd.DataFrame(data)\n",
        "    df.to_csv(filename, index=False, encoding='utf-8')\n",
        "    print(f\"Results exported to {filename}\")\n",
        "\n",
        "# Function to format the scan date\n",
        "def format_scan_date(scan_date):\n",
        "    try:\n",
        "        dt = datetime.strptime(scan_date, \"%Y-%m-%dT%H:%M:%S.%fZ\")\n",
        "        return dt.strftime(\"%d-%b-%Y %H:%M:%S UTC\")\n",
        "    except ValueError:\n",
        "        return \"N/A\"\n",
        "\n",
        "# Main function\n",
        "def main():\n",
        "    api_key = input(\"Enter your urlscan.io API key: \")\n",
        "    keyword = input(\"Enter the keyword to search: \")\n",
        "    results = search_urlscan(keyword, api_key)\n",
        "    if results:\n",
        "        # Extracting relevant data\n",
        "        data = []\n",
        "        for result in results.get(\"results\", []):\n",
        "            # Convert the scan date to the desired format\n",
        "            scan_date_str = result.get(\"task\", {}).get(\"time\", \"\")\n",
        "            if scan_date_str:\n",
        "                scan_date = datetime.strptime(scan_date_str, \"%Y-%m-%dT%H:%M:%S.%fZ\")\n",
        "                formatted_date = scan_date.strftime(\"%d-%b-%Y %H:%M:%S - UTC\")\n",
        "            else:\n",
        "                formatted_date = \"N/A\"\n",
        "\n",
        "            data.append({\n",
        "                \"Domain\": result.get(\"page\", {}).get(\"domain\", \"\"),\n",
        "                \"Check Date\": formatted_date,\n",
        "                \"Page Title\": result.get(\"page\", {}).get(\"title\", \"N/A\")\n",
        "            })\n",
        "        # Exporting to CSV\n",
        "        export_to_csv(data, \"urlscan-search-results.csv\")\n",
        "\n",
        "# Run the main function\n",
        "if __name__ == \"__main__\":\n",
        "    main()\n"
      ],
      "metadata": {
        "id": "Gvnf7Q3adEKg"
      },
      "execution_count": null,
      "outputs": []
    },
    {
      "cell_type": "markdown",
      "source": [
        "#3 - Output file location, by expanding table of contents - go to Files in the left corner\n",
        " ![output-location-snerd.jpg](data:image/jpeg;base64,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)"
      ],
      "metadata": {
        "id": "s5IdweU3g6uS"
      }
    }
  ]
}